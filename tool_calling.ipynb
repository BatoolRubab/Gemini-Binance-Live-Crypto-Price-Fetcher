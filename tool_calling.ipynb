{
 "cells": [
  {
   "cell_type": "code",
   "metadata": {
    "ExecuteTime": {
     "end_time": "2025-06-12T12:20:20.776923Z",
     "start_time": "2025-06-12T12:20:18.262580Z"
    }
   },
   "source": [
    "# Import necessary libraries\n",
    "import os\n",
    "from typing import Any, Dict\n",
    "\n",
    "import google.generativeai as genai\n",
    "import requests\n",
    "from dotenv import load_dotenv\n",
    "\n",
    "print(\"We are up and running!\")"
   ],
   "outputs": [
    {
     "name": "stdout",
     "output_type": "stream",
     "text": [
      "We are up and running!\n"
     ]
    }
   ],
   "execution_count": 2
  },
  {
   "cell_type": "markdown",
   "metadata": {},
   "source": [
    "Ensure that you created a Gemini API Key and added it to the `.env` file before executing the next command"
   ]
  },
  {
   "cell_type": "code",
   "metadata": {
    "ExecuteTime": {
     "end_time": "2025-06-12T12:20:22.928146Z",
     "start_time": "2025-06-12T12:20:22.911749Z"
    }
   },
   "source": [
    "# Load environment variables\n",
    "load_dotenv()\n",
    "api_key = os.getenv(\"GEMINI_API_KEY\")\n",
    "if not api_key or api_key.startswith(\"ADD YOUR\"):\n",
    "    raise ValueError(\"GEMINI_API_KEY not found in .env file\")\n",
    "\n",
    "# Configure Gemini\n",
    "genai.configure(api_key=api_key)\n",
    "model = genai.GenerativeModel(\"gemini-2.0-flash\")\n",
    "\n",
    "print(f\"Gemini model loaded successfully: {model.model_name}\")"
   ],
   "outputs": [
    {
     "name": "stdout",
     "output_type": "stream",
     "text": [
      "Gemini model loaded successfully: models/gemini-2.0-flash\n"
     ]
    }
   ],
   "execution_count": 3
  },
  {
   "cell_type": "code",
   "metadata": {
    "ExecuteTime": {
     "end_time": "2025-06-12T12:20:27.245598Z",
     "start_time": "2025-06-12T12:20:24.865573Z"
    }
   },
   "source": [
    "PROMPT = \"What is the current price of Bitcoin?\"\n",
    "chat = model.start_chat()\n",
    "response = chat.send_message(PROMPT)\n",
    "print(response.text)"
   ],
   "outputs": [
    {
     "name": "stdout",
     "output_type": "stream",
     "text": [
      "I am unable to give you real-time information, including the current price of Bitcoin. Cryptocurrency prices change very, very rapidly.\n",
      "\n",
      "To find the current price, I recommend checking these resources:\n",
      "\n",
      "*   **Major Cryptocurrency Exchanges:** Coinbase, Binance, Kraken, Gemini\n",
      "*   **Financial Websites:** Google Finance, Yahoo Finance, Bloomberg, MarketWatch\n",
      "*   **Cryptocurrency Tracking Websites:** CoinMarketCap, CoinGecko\n",
      "\n",
      "These sources will provide you with the most up-to-date price.\n"
     ]
    }
   ],
   "execution_count": 4
  },
  {
   "metadata": {
    "ExecuteTime": {
     "end_time": "2025-06-12T12:24:19.596086Z",
     "start_time": "2025-06-12T12:24:19.587312Z"
    }
   },
   "cell_type": "code",
   "source": [
    "#RESPONCE WITH METADTA TYPICAL LLM RESPONCE\n",
    "print(response)"
   ],
   "outputs": [
    {
     "name": "stdout",
     "output_type": "stream",
     "text": [
      "response:\n",
      "GenerateContentResponse(\n",
      "    done=True,\n",
      "    iterator=None,\n",
      "    result=protos.GenerateContentResponse({\n",
      "      \"candidates\": [\n",
      "        {\n",
      "          \"content\": {\n",
      "            \"parts\": [\n",
      "              {\n",
      "                \"text\": \"I am unable to give you real-time information, including the current price of Bitcoin. Cryptocurrency prices change very, very rapidly.\\n\\nTo find the current price, I recommend checking these resources:\\n\\n*   **Major Cryptocurrency Exchanges:** Coinbase, Binance, Kraken, Gemini\\n*   **Financial Websites:** Google Finance, Yahoo Finance, Bloomberg, MarketWatch\\n*   **Cryptocurrency Tracking Websites:** CoinMarketCap, CoinGecko\\n\\nThese sources will provide you with the most up-to-date price.\"\n",
      "              }\n",
      "            ],\n",
      "            \"role\": \"model\"\n",
      "          },\n",
      "          \"finish_reason\": \"STOP\",\n",
      "          \"avg_logprobs\": -0.1446227372861376\n",
      "        }\n",
      "      ],\n",
      "      \"usage_metadata\": {\n",
      "        \"prompt_token_count\": 8,\n",
      "        \"candidates_token_count\": 102,\n",
      "        \"total_token_count\": 110\n",
      "      },\n",
      "      \"model_version\": \"gemini-2.0-flash\"\n",
      "    }),\n",
      ")\n"
     ]
    }
   ],
   "execution_count": 5
  },
  {
   "cell_type": "code",
   "metadata": {
    "ExecuteTime": {
     "end_time": "2025-06-12T12:24:22.778804Z",
     "start_time": "2025-06-12T12:24:22.379153Z"
    }
   },
   "source": [
    "url = f\"https://api.binance.com/api/v3/ticker/price?symbol=BTCUSDT\"\n",
    "response = requests.get(url)\n",
    "data = response.json()\n",
    "print(data)"
   ],
   "outputs": [
    {
     "name": "stdout",
     "output_type": "stream",
     "text": [
      "{'symbol': 'BTCUSDT', 'price': '107016.74000000'}\n"
     ]
    }
   ],
   "execution_count": 6
  },
  {
   "cell_type": "code",
   "metadata": {
    "ExecuteTime": {
     "end_time": "2025-06-12T12:25:27.339333Z",
     "start_time": "2025-06-12T12:25:27.331046Z"
    }
   },
   "source": [
    "\n",
    "# Define the function\n",
    "def get_crypto_price(symbol: str) -> Dict[str, Any]:\n",
    "    \"\"\"\n",
    "    Get the current price of a cryptocurrency from Binance API\n",
    "    \"\"\"\n",
    "    url = f\"https://api.binance.com/api/v3/ticker/price?symbol={symbol}\"\n",
    "    response = requests.get(url)\n",
    "    data = response.json()\n",
    "    return float(data[\"price\"])\n"
   ],
   "outputs": [],
   "execution_count": 7
  },
  {
   "cell_type": "code",
   "metadata": {
    "ExecuteTime": {
     "end_time": "2025-06-12T12:25:31.948109Z",
     "start_time": "2025-06-12T12:25:31.582236Z"
    }
   },
   "source": [
    "price = get_crypto_price(\"BTCUSDT\")\n",
    "print(f\"BTC Price in USDT: {price}\")"
   ],
   "outputs": [
    {
     "name": "stdout",
     "output_type": "stream",
     "text": [
      "BTC Price in USDT: 106952.53\n"
     ]
    }
   ],
   "execution_count": 8
  },
  {
   "cell_type": "code",
   "metadata": {
    "ExecuteTime": {
     "end_time": "2025-06-12T12:29:20.479648Z",
     "start_time": "2025-06-12T12:29:20.472270Z"
    }
   },
   "source": [
    "tools = [\n",
    "    {\n",
    "        \"function_declarations\": [\n",
    "            {\n",
    "                \"name\": \"get_crypto_price\",\n",
    "                \"description\": \"Get cryptocurrency price in USDT from Binance\",\n",
    "                \"parameters\": {\n",
    "                    \"type\": \"object\", \n",
    "                    \"properties\": {\n",
    "                        \"symbol\": {\n",
    "                            \"type\": \"string\",\n",
    "                            \"description\": \"The cryptocurrency trading pair symbol (e.g., BTCUSDT, ETHUSDT). \\\n",
    "                                            The symbol for Bitcoin is BTCUSDT. \\\n",
    "                                            The symbol for Ethereum is ETHUSDT.\"\n",
    "                        }\n",
    "                    },\n",
    "                    \"required\": [\"symbol\"]\n",
    "                }\n",
    "            }\n",
    "        ]\n",
    "    }\n",
    "]"
   ],
   "outputs": [],
   "execution_count": 9
  },
  {
   "cell_type": "code",
   "metadata": {
    "ExecuteTime": {
     "end_time": "2025-06-12T12:29:48.493241Z",
     "start_time": "2025-06-12T12:29:47.041490Z"
    }
   },
   "source": [
    "PROMPT = \"What is the current price of Bitcoin?\"\n",
    "chat = model.start_chat()\n",
    "response = chat.send_message(PROMPT, tools=tools)\n",
    "print(response)\n"
   ],
   "outputs": [
    {
     "name": "stdout",
     "output_type": "stream",
     "text": [
      "response:\n",
      "GenerateContentResponse(\n",
      "    done=True,\n",
      "    iterator=None,\n",
      "    result=protos.GenerateContentResponse({\n",
      "      \"candidates\": [\n",
      "        {\n",
      "          \"content\": {\n",
      "            \"parts\": [\n",
      "              {\n",
      "                \"function_call\": {\n",
      "                  \"name\": \"get_crypto_price\",\n",
      "                  \"args\": {\n",
      "                    \"symbol\": \"BTCUSDT\"\n",
      "                  }\n",
      "                }\n",
      "              }\n",
      "            ],\n",
      "            \"role\": \"model\"\n",
      "          },\n",
      "          \"finish_reason\": \"STOP\",\n",
      "          \"avg_logprobs\": -0.10051312297582626\n",
      "        }\n",
      "      ],\n",
      "      \"usage_metadata\": {\n",
      "        \"prompt_token_count\": 60,\n",
      "        \"candidates_token_count\": 8,\n",
      "        \"total_token_count\": 68\n",
      "      },\n",
      "      \"model_version\": \"gemini-2.0-flash\"\n",
      "    }),\n",
      ")\n"
     ]
    }
   ],
   "execution_count": 10
  },
  {
   "cell_type": "code",
   "metadata": {
    "ExecuteTime": {
     "end_time": "2025-06-12T12:30:50.932610Z",
     "start_time": "2025-06-12T12:30:50.534433Z"
    }
   },
   "source": [
    "price = get_crypto_price(\"BTCUSDT\")"
   ],
   "outputs": [],
   "execution_count": 11
  },
  {
   "cell_type": "code",
   "metadata": {
    "ExecuteTime": {
     "end_time": "2025-06-12T12:31:01.933823Z",
     "start_time": "2025-06-12T12:31:01.252457Z"
    }
   },
   "source": [
    "final_response = chat.send_message(str(price))\n",
    "print(final_response)"
   ],
   "outputs": [
    {
     "name": "stdout",
     "output_type": "stream",
     "text": [
      "response:\n",
      "GenerateContentResponse(\n",
      "    done=True,\n",
      "    iterator=None,\n",
      "    result=protos.GenerateContentResponse({\n",
      "      \"candidates\": [\n",
      "        {\n",
      "          \"content\": {\n",
      "            \"parts\": [\n",
      "              {\n",
      "                \"text\": \"The current price of Bitcoin (BTC) is $107,051.55.\\n\"\n",
      "              }\n",
      "            ],\n",
      "            \"role\": \"model\"\n",
      "          },\n",
      "          \"finish_reason\": \"STOP\",\n",
      "          \"avg_logprobs\": -0.029440850019454956\n",
      "        }\n",
      "      ],\n",
      "      \"usage_metadata\": {\n",
      "        \"prompt_token_count\": 25,\n",
      "        \"candidates_token_count\": 22,\n",
      "        \"total_token_count\": 47\n",
      "      },\n",
      "      \"model_version\": \"gemini-2.0-flash\"\n",
      "    }),\n",
      ")\n"
     ]
    }
   ],
   "execution_count": 12
  },
  {
   "cell_type": "code",
   "metadata": {
    "ExecuteTime": {
     "end_time": "2025-06-12T12:31:27.778590Z",
     "start_time": "2025-06-12T12:31:27.767526Z"
    }
   },
   "source": [
    "print(final_response.text)"
   ],
   "outputs": [
    {
     "name": "stdout",
     "output_type": "stream",
     "text": [
      "The current price of Bitcoin (BTC) is $107,051.55.\n",
      "\n"
     ]
    }
   ],
   "execution_count": 13
  },
  {
   "cell_type": "markdown",
   "metadata": {},
   "source": []
  }
 ],
 "metadata": {
  "kernelspec": {
   "display_name": ".venv",
   "language": "python",
   "name": "python3"
  },
  "language_info": {
   "codemirror_mode": {
    "name": "ipython",
    "version": 3
   },
   "file_extension": ".py",
   "mimetype": "text/x-python",
   "name": "python",
   "nbconvert_exporter": "python",
   "pygments_lexer": "ipython3",
   "version": "3.10.16"
  }
 },
 "nbformat": 4,
 "nbformat_minor": 2
}
